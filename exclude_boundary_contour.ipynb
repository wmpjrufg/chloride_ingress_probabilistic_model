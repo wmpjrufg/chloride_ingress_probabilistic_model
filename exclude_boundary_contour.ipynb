{
 "cells": [
  {
   "cell_type": "code",
   "execution_count": null,
   "id": "d667c993",
   "metadata": {},
   "outputs": [],
   "source": [
    "def exclude_cont_bound(myconts: dict, n_x: float, n_y: float) -> dict:\n",
    "    \"\"\"\n",
    "    Exclude contours that touch the boundary of the image.\n",
    "    \n",
    "    :param myconts: Dictionary of contours\n",
    "    :param n_x: Width of the image or criterion for exclusion\n",
    "    :param n_y: Height of the image or criterion for exclusion\n",
    "\n",
    "    :return: Filtered dictionary of contours that do not touch the boundary\n",
    "    \"\"\"\n",
    "    myconts_copy = myconts.copy()\n",
    "    for i in myconts:\n",
    "        i_contour = myconts[i]\n",
    "        for j in range(len(i_contour)):\n",
    "            x, y = i_contour[j][0]\n",
    "            if x == 0 or y == 0 or x >= n_x or y >= n_y:\n",
    "                save_or_not_save = False\n",
    "                break\n",
    "        else:\n",
    "            save_or_not_save = True\n",
    "        if save_or_not_save == False:\n",
    "          del myconts_copy[i]\n",
    "          \n",
    "    return myconts_copy"
   ]
  },
  {
   "cell_type": "code",
   "execution_count": null,
   "id": "feaf4717",
   "metadata": {},
   "outputs": [],
   "source": [
    "myc = exclude_cont_bound(myconts, 999, 999)\n",
    "plot_contours(myc)   "
   ]
  }
 ],
 "metadata": {
  "language_info": {
   "name": "python"
  }
 },
 "nbformat": 4,
 "nbformat_minor": 5
}
