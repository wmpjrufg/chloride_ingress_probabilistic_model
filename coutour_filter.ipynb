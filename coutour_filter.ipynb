{
 "cells": [
  {
   "cell_type": "markdown",
   "id": "9387f15b",
   "metadata": {},
   "source": [
    "# Libraries"
   ]
  },
  {
   "cell_type": "code",
   "execution_count": 1,
   "id": "05a3c759",
   "metadata": {},
   "outputs": [],
   "source": [
    "from coutour_extraction_functions import filter_images_by_diameter\n",
    "import json"
   ]
  },
  {
   "cell_type": "code",
   "execution_count": 2,
   "id": "74f2ed00",
   "metadata": {},
   "outputs": [
    {
     "name": "stdout",
     "output_type": "stream",
     "text": [
      "\n",
      "Images with diameter < 15.0 mm copied to: image_patchs_filtered\n",
      "Total images copied: 7038\n",
      "Total images removed (>= 15.0 mm): 1\n"
     ]
    }
   ],
   "source": [
    "filter_images_by_diameter(\n",
    "    csv_path=\"contours_dataset.csv\",\n",
    "    image_dir=\"dataset/image_patchs\",\n",
    "    output_dir=\"image_patchs_filtered\",\n",
    "    threshold_diam_mm=15.0\n",
    ")"
   ]
  }
 ],
 "metadata": {
  "kernelspec": {
   "display_name": "env",
   "language": "python",
   "name": "python3"
  },
  "language_info": {
   "codemirror_mode": {
    "name": "ipython",
    "version": 3
   },
   "file_extension": ".py",
   "mimetype": "text/x-python",
   "name": "python",
   "nbconvert_exporter": "python",
   "pygments_lexer": "ipython3",
   "version": "3.12.10"
  }
 },
 "nbformat": 4,
 "nbformat_minor": 5
}
