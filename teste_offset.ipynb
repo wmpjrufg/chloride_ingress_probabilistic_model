{
 "cells": [
  {
   "cell_type": "code",
   "execution_count": null,
   "id": "6b4efaf9",
   "metadata": {},
   "outputs": [],
   "source": [
    "from functions import offset_contours\n",
    "import json"
   ]
  },
  {
   "cell_type": "code",
   "execution_count": null,
   "id": "88003275",
   "metadata": {},
   "outputs": [],
   "source": [
    "# 1) Aumentar todos os contornos em +3 px e recalcular as razões:\n",
    "new_data = offset_contours(\n",
    "    json_path=\"dataset_contours_aggregate_by_patch_filtered.json\",\n",
    "    offset=3.0,\n",
    "    join_style=\"round\",\n",
    "    recompute_rates=True,\n",
    "    image_area=2500*2500,\n",
    "    patch_area=512*512,\n",
    "    verbose=True\n",
    ")\n",
    "\n",
    "# 2) Aumentar só alguns nomes:\n",
    "new_sel = offset_contours(\n",
    "    json_path=\"dataset_contours_aggregate_by_patch_filtered.json\",\n",
    "    names_to_offset=[\"01_0.png\", \"02_3.png\"],\n",
    "    offset=2.0,\n",
    "    join_style=\"mitre\",\n",
    "    verbose=True\n",
    ")\n",
    "\n",
    "# 3) Salvar:\n",
    "with open(\"dataset_contours_aggregate_by_patch_offset.json\", \"w\") as f:\n",
    "    json.dump(new_data, f, indent=4)\n"
   ]
  }
 ],
 "metadata": {
  "language_info": {
   "name": "python"
  }
 },
 "nbformat": 4,
 "nbformat_minor": 5
}
