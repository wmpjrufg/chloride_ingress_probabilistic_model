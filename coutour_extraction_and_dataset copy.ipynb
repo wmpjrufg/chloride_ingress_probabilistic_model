{
 "cells": [
  {
   "cell_type": "markdown",
   "id": "001043f9",
   "metadata": {},
   "source": [
    "# **1. Libraries**\n",
    "\n",
    "All the functions are implement in ```functions.py``` file."
   ]
  },
  {
   "cell_type": "code",
   "execution_count": 1,
   "id": "9de2451b",
   "metadata": {},
   "outputs": [],
   "source": [
    "from functions import *\n",
    "import pandas as pd"
   ]
  },
  {
   "cell_type": "markdown",
   "id": "c5a26406",
   "metadata": {},
   "source": [
    "# **2. Download original dataset**\n",
    "\n",
    "The images are available on a Google Drive link."
   ]
  },
  {
   "cell_type": "code",
   "execution_count": 2,
   "id": "a19930cc",
   "metadata": {},
   "outputs": [],
   "source": [
    "# download_and_extract_gdrive_zip(\"1bRG21aGbC4XdxqVw5fLAnI2WYJyRNNXp\")"
   ]
  },
  {
   "cell_type": "markdown",
   "id": "31c6ab7b",
   "metadata": {},
   "source": [
    "# **3. Get contours**"
   ]
  },
  {
   "cell_type": "code",
   "execution_count": 3,
   "id": "b6c2d909",
   "metadata": {},
   "outputs": [
    {
     "name": "stdout",
     "output_type": "stream",
     "text": [
      "Warning: Contour 16_113 exceeds 512x512 px (size: 184x532 px)\n",
      "Contours by file extracted and saved to dataset/dataset_contours_aggregate_by_image.json\n"
     ]
    },
    {
     "data": {
      "text/plain": [
       "(532, 7039)"
      ]
     },
     "execution_count": 3,
     "metadata": {},
     "output_type": "execute_result"
    }
   ],
   "source": [
    "process_images_to_json('dataset/binary-masks', 'dataset_contours_aggregate_by_image')"
   ]
  },
  {
   "cell_type": "markdown",
   "id": "ded8ab4d",
   "metadata": {},
   "source": [
    "### 3.1 Test contour and circle from dataset"
   ]
  },
  {
   "cell_type": "code",
   "execution_count": 10,
   "id": "d7385b30",
   "metadata": {},
   "outputs": [
    {
     "data": {
      "image/png": "[encoded data removed]",
      "text/plain": [
       "<Figure size 600x600 with 1 Axes>"
      ]
     },
     "metadata": {},
     "output_type": "display_data"
    }
   ],
   "source": [
    "import matplotlib.pyplot as plt\n",
    "import numpy as np\n",
    "\n",
    "# Load\n",
    "with open('dataset/dataset_contours_aggregate_by_image.json', 'r') as f:\n",
    "    data = json.load(f)\n",
    "\n",
    "# Patch\n",
    "pa = '01_28.png'\n",
    "\n",
    "# Black background\n",
    "fig, ax = plt.subplots(figsize=(6,6))\n",
    "ax.set_facecolor(\"black\")\n",
    "\n",
    "# Fill the contour with white\n",
    "ax.fill(data[pa]['x coordinate in patch'], data[pa]['y coordinate in patch'], facecolor=\"white\", edgecolor=\"white\")\n",
    "\n",
    "# White circle\n",
    "circle = plt.Circle((256, 256), data[pa]['diameter (px)']/2, color=\"white\", fill=False)\n",
    "ax.add_patch(circle)\n",
    "\n",
    "# Plot adjustments\n",
    "ax.set_xlim(0, 512)\n",
    "ax.set_ylim(0, 512)\n",
    "ax.invert_yaxis()       # optional: invert y-axis to match image coordinates\n",
    "ax.set_aspect('equal')\n",
    "\n",
    "# Show the plot\n",
    "plt.show()"
   ]
  },
  {
   "cell_type": "markdown",
   "id": "0424b3c5",
   "metadata": {},
   "source": [
    "# **4. Clean \"strange\" contours**\n",
    "\n",
    "What are \"strange contours\"?\n",
    "\n",
    "- multiple contours\n",
    "- non-convex\n",
    "- turn convex\n",
    "- filter by diameter"
   ]
  },
  {
   "cell_type": "markdown",
   "id": "4812aad4",
   "metadata": {},
   "source": [
    "### 4.1 Multiple contours"
   ]
  },
  {
   "cell_type": "code",
   "execution_count": 5,
   "id": "d8e051ca",
   "metadata": {},
   "outputs": [
    {
     "name": "stdout",
     "output_type": "stream",
     "text": [
      "[MultiPolygon] 01_66.png\n",
      "[MultiPolygon] 03_7.png\n",
      "[MultiPolygon] 03_44.png\n",
      "[MultiPolygon] 03_63.png\n",
      "[MultiPolygon] 03_71.png\n",
      "[MultiPolygon] 03_507.png\n",
      "[MultiPolygon] 07_329.png\n",
      "[MultiPolygon] 08_35.png\n",
      "[MultiPolygon] 08_63.png\n",
      "[MultiPolygon] 08_255.png\n",
      "[MultiPolygon] 09_22.png\n",
      "[MultiPolygon] 10_129.png\n",
      "[MultiPolygon] 13_41.png\n",
      "[MultiPolygon] 13_135.png\n",
      "[MultiPolygon] 14_107.png\n",
      "[MultiPolygon] 15_13.png\n",
      "[MultiPolygon] 15_444.png\n",
      "[MultiPolygon] 16_158.png\n",
      "[MultiPolygon] 16_183.png\n",
      "[MultiPolygon] 17_269.png\n"
     ]
    }
   ],
   "source": [
    "purge_1_list = find_multipolygon_contours('dataset/dataset_contours_aggregate_by_image.json')"
   ]
  },
  {
   "cell_type": "markdown",
   "id": "ffb09548",
   "metadata": {},
   "source": [
    "### 4.2 Non-convex"
   ]
  },
  {
   "cell_type": "code",
   "execution_count": null,
   "id": "0f041076",
   "metadata": {},
   "outputs": [],
   "source": [
    "# Luiz colocar aqui o purge\n",
    "purge_2_list = [\"01_36.png\", \"01_83.png\", \"01_95.png\", \"01_108.png\", \"01_129.png\", \"01_142.png\", \"01_170.png\",\n",
    "                \"01_179.png\", \"01_224.png\", \"01_264.png\", \"01_282.png\", \"01_301.png\", \"01_314.png\", \"01_353.png\",\n",
    "                \"02_62.png\", \"02_215.png\", \"02_243.png\", \"03_35.png\", \"03_250.png\", \"03_251.png\", \"03_258.png\",\n",
    "                \"03_298.png\", \"03_252.png\", \"03_378.png\", \"03_455.png\", \"04_22.png\", \"04_49.png\", \"04_72.png\",\n",
    "                \"04_78.png\", \"04_91.png\", \"04_92.png\", \"04_204.png\", \"04_205.png\", \"04_239.png\", \"04_309.png\",\n",
    "                \"05_07.png\", \"05_30.png\", \"05_46.png\", \"05_76.png\", \"05_107.png\", \"05_133.png\", \"05_140.png\",\n",
    "                \"05_147.png\", \"05_153.png\", \"05_172.png\", \"05_185.png\", \"05_192.png\", \"05_328.png\", \"05_401.png\", \n",
    "                \"16_113.png\"]"
   ]
  },
  {
   "cell_type": "markdown",
   "id": "d18f59d0",
   "metadata": {},
   "source": [
    "### 4.3 Delete non-convex and multiple polygon"
   ]
  },
  {
   "cell_type": "code",
   "execution_count": 7,
   "id": "0cc67a18",
   "metadata": {},
   "outputs": [],
   "source": [
    "purge_list = purge_1_list + purge_2_list\n",
    "delete_list_of_images(\"dataset/dataset_contours_aggregate_by_image.csv\", \n",
    "                      \"dataset/dataset_contours_aggregate_by_image.json\", \n",
    "                      \"dataset_contours_aggregate_by_image_filter_nonconvex_and_multipolygon\", \n",
    "                      purge_list)"
   ]
  },
  {
   "cell_type": "markdown",
   "id": "390a0988",
   "metadata": {},
   "source": [
    "### 4.4 Become convex"
   ]
  },
  {
   "cell_type": "code",
   "execution_count": 2,
   "id": "4f095002",
   "metadata": {},
   "outputs": [],
   "source": [
    "purge_2_list_convex_hull = [\"01_16.png\", \"01_18.png\", \"01_85.png\", \"01_121.png\", \"01_136.png\", \"01_154.png\",\n",
    "                            \"01_200.png\", \"01_205.png\", \"01_243.png\", \"01_312.png\", \"01_332.png\", \"01_356.png\",\n",
    "                            \"02_52.png\", \"02_87.png\", \"02_113.png\", \"02_130.png\", \"02_131.png\", \"02_139.png\",\n",
    "                            \"02_140.png\", \"02_168.png\", \"02_174.png\", \"02_203.png\", \"02_217.png\", \"02_235.png\",\n",
    "                            \"02_247.png\", \"02_248.png\", \"02_255.png\", \"02_271.png\", \"02_301.png\", \"02_303.png\",\n",
    "                            \"03_31.png\", \"03_58.png\", \"03_102.png\", \"03_134.png\", \"03_143.png\", \"03_151.png\",\n",
    "                            \"03_158.png\", \"03_225.png\", \"03_234.png\", \"03_288.png\", \"03_293.png\", \"03_306.png\",\n",
    "                            \"03_310.png\", \"03_313.png\", \"03_320.png\", \"03_321.png\", \"03_357.png\", \"03_372.png\",\n",
    "                            \"03_383.png\", \"03_384.png\", \"03_404.png\", \"03_452.png\", \"03_527.png\", \"03_562.png\",\n",
    "                            \"03_572.png\", \"04_10.png\", \"04_13.png\", \"04_14.png\", \"04_26.png\", \"04_27.png\", \n",
    "                            \"04_28.png\", \"04_32.png\", \"04_34.png\", \"04_36.png\", \"04_37.png\", \"04_48.png\",\n",
    "                            \"04_50.png\", \"04_56.png\", \"04_61.png\", \"04_62.png\", \"04_82.png\", \"04_85.png\",\n",
    "                            \"04_90.png\", \"04_94.png\", \"04_92.png\", \"04_106.png\", \"04_109.png\", \"04_114.png\",\n",
    "                            \"04_117.png\",\"04_119.png\",\"04_126.png\", \"04_130.png\", \"04_136.png\", \"04_141.png\",\n",
    "                            \"04_184.png\", \"04_200.png\", \"04_220.png\", \"04_226.png\", \"04_235.png\", \"04_245.png\",\n",
    "                            \"04_264.png\", \"04_268.png\", \"04_271.png\", \"04_280.png\", \"04_284.png\", \"04_288.png\",\n",
    "                            \"04_291.png\", \"04_298.png\", \"04_299.png\", \"04_301.png\", \"04_304.png\", \"04_308.png\",\n",
    "                            \"04_321.png\", \"04_326.png\", \"04_336.png\", \"04_337.png\", \"04_342.png\", \"04_352.png\",\n",
    "                            \"05_29.png\", \"05_36.png\", \"05_63.png\", \"05_65.png\", \"05_75.png\", \"05_116.png\",\n",
    "                            \"05_117.png\", \"05_154.png\", \"05_174.png\", \"05_197.png\", \"05_210.png\", \"05_219.png\",\n",
    "                            \"05_223.png\", \"05_224.png\", \"05_241.png\", \"05_245.png\", \"05_269.png\", \"05_282.png\",\n",
    "                            \"05_285.png\", \"05_297.png\", \"05_317.png\", \"05_327.png\", \"05_338.png\", \"05_366.png\",\n",
    "                            \"05_370.png\", \"05_386.png\", \"05_391.png\", \"05_3961.png\", \"05_444.png\", \"05_453.png\"]"
   ]
  },
  {
   "cell_type": "markdown",
   "id": "2186c115",
   "metadata": {},
   "source": [
    "### 4.5 Apply conveHull rule"
   ]
  },
  {
   "cell_type": "code",
   "execution_count": 3,
   "id": "b543f945",
   "metadata": {},
   "outputs": [],
   "source": [
    "convex_hull_in_data('dataset/dataset_contours_aggregate_by_image_filter_nonconvex_and_multipolygon.json', \n",
    "                    'dataset_contours_aggregate_by_image_hull',\n",
    "                    purge_2_list_convex_hull)"
   ]
  },
  {
   "cell_type": "markdown",
   "id": "2793b4ae",
   "metadata": {},
   "source": [
    "### 4.6 Test contour and circle from dataset"
   ]
  },
  {
   "cell_type": "code",
   "execution_count": 11,
   "id": "8e213f96",
   "metadata": {},
   "outputs": [
    {
     "data": {
      "image/png": "[encoded data removed]",
      "text/plain": [
       "<Figure size 600x600 with 1 Axes>"
      ]
     },
     "metadata": {},
     "output_type": "display_data"
    }
   ],
   "source": [
    "import matplotlib.pyplot as plt\n",
    "import numpy as np\n",
    "\n",
    "# Load\n",
    "with open('dataset/dataset_contours_aggregate_by_image_hull.json', 'r') as f:\n",
    "    data = json.load(f)\n",
    "\n",
    "# Patch\n",
    "pa = '01_28.png'\n",
    "\n",
    "# Black background\n",
    "fig, ax = plt.subplots(figsize=(6,6))\n",
    "ax.set_facecolor(\"black\")\n",
    "\n",
    "# Fill the contour with white\n",
    "ax.fill(data[pa]['x coordinate in patch'], data[pa]['y coordinate in patch'], facecolor=\"white\", edgecolor=\"white\")\n",
    "\n",
    "# White circle\n",
    "circle = plt.Circle((256, 256), data[pa]['diameter (px)']/2, color=\"white\", fill=False)\n",
    "ax.add_patch(circle)\n",
    "\n",
    "# Plot adjustments\n",
    "ax.set_xlim(0, 512)\n",
    "ax.set_ylim(0, 512)\n",
    "ax.invert_yaxis()       # optional: invert y-axis to match image coordinates\n",
    "ax.set_aspect('equal')\n",
    "\n",
    "# Show the plot\n",
    "plt.show()"
   ]
  },
  {
   "cell_type": "markdown",
   "id": "ea14cd53",
   "metadata": {},
   "source": [
    "# **5. Filter**"
   ]
  },
  {
   "cell_type": "code",
   "execution_count": 5,
   "id": "ba2096da",
   "metadata": {},
   "outputs": [],
   "source": [
    "filter_images_by_diameter(\"dataset/dataset_contours_aggregate_by_image.csv\", \n",
    "                          \"dataset/dataset_contours_aggregate_by_image.json\", \n",
    "                          \"dataset_contours_aggregate_by_image_filtered\", \n",
    "                          threshold_diam_mm=(12, 15))"
   ]
  },
  {
   "cell_type": "markdown",
   "id": "ed4afb56",
   "metadata": {},
   "source": [
    "# **6. Data augmentation**"
   ]
  },
  {
   "cell_type": "code",
   "execution_count": 6,
   "id": "4b6a9779",
   "metadata": {},
   "outputs": [],
   "source": [
    "data_augmentation('dataset/dataset_contours_aggregate_by_image_filtered.csv', \n",
    "                  'dataset/dataset_contours_aggregate_by_image_filtered.json',\n",
    "                  'dataset_contours_aggregate_by_image_filtered_augmented', \n",
    "                  n_new_images=5)"
   ]
  },
  {
   "cell_type": "markdown",
   "id": "58aec55a",
   "metadata": {},
   "source": [
    "# **7. Statistics**"
   ]
  },
  {
   "cell_type": "code",
   "execution_count": 7,
   "id": "dd16ae44",
   "metadata": {},
   "outputs": [
    {
     "data": {
      "text/html": [
       "<div>\n",
       "<style scoped>\n",
       "    .dataframe tbody tr th:only-of-type {\n",
       "        vertical-align: middle;\n",
       "    }\n",
       "\n",
       "    .dataframe tbody tr th {\n",
       "        vertical-align: top;\n",
       "    }\n",
       "\n",
       "    .dataframe thead th {\n",
       "        text-align: right;\n",
       "    }\n",
       "</style>\n",
       "<table border=\"1\" class=\"dataframe\">\n",
       "  <thead>\n",
       "    <tr style=\"text-align: right;\">\n",
       "      <th></th>\n",
       "      <th>image name</th>\n",
       "      <th>contour area (px)</th>\n",
       "      <th>contour area (mm2)</th>\n",
       "      <th>diameter (px)</th>\n",
       "      <th>diameter (mm)</th>\n",
       "    </tr>\n",
       "  </thead>\n",
       "  <tbody>\n",
       "    <tr>\n",
       "      <th>0</th>\n",
       "      <td>01_142.png</td>\n",
       "      <td>96149.0</td>\n",
       "      <td>86.53410</td>\n",
       "      <td>465.725861</td>\n",
       "      <td>13.971776</td>\n",
       "    </tr>\n",
       "    <tr>\n",
       "      <th>1</th>\n",
       "      <td>01_154.png</td>\n",
       "      <td>51848.5</td>\n",
       "      <td>46.66365</td>\n",
       "      <td>408.925629</td>\n",
       "      <td>12.267769</td>\n",
       "    </tr>\n",
       "    <tr>\n",
       "      <th>2</th>\n",
       "      <td>04_130.png</td>\n",
       "      <td>71676.0</td>\n",
       "      <td>64.50840</td>\n",
       "      <td>486.319031</td>\n",
       "      <td>14.589571</td>\n",
       "    </tr>\n",
       "    <tr>\n",
       "      <th>3</th>\n",
       "      <td>05_107.png</td>\n",
       "      <td>69591.5</td>\n",
       "      <td>62.63235</td>\n",
       "      <td>439.369080</td>\n",
       "      <td>13.181072</td>\n",
       "    </tr>\n",
       "    <tr>\n",
       "      <th>4</th>\n",
       "      <td>06_255.png</td>\n",
       "      <td>39649.5</td>\n",
       "      <td>35.68455</td>\n",
       "      <td>419.239990</td>\n",
       "      <td>12.577200</td>\n",
       "    </tr>\n",
       "    <tr>\n",
       "      <th>5</th>\n",
       "      <td>08_63.png</td>\n",
       "      <td>43025.5</td>\n",
       "      <td>38.72295</td>\n",
       "      <td>453.538513</td>\n",
       "      <td>13.606155</td>\n",
       "    </tr>\n",
       "    <tr>\n",
       "      <th>6</th>\n",
       "      <td>12_166.png</td>\n",
       "      <td>39241.0</td>\n",
       "      <td>35.31690</td>\n",
       "      <td>419.468933</td>\n",
       "      <td>12.584068</td>\n",
       "    </tr>\n",
       "    <tr>\n",
       "      <th>7</th>\n",
       "      <td>14_74.png</td>\n",
       "      <td>42588.5</td>\n",
       "      <td>38.32965</td>\n",
       "      <td>451.107727</td>\n",
       "      <td>13.533232</td>\n",
       "    </tr>\n",
       "    <tr>\n",
       "      <th>8</th>\n",
       "      <td>14_508.png</td>\n",
       "      <td>35420.0</td>\n",
       "      <td>31.87800</td>\n",
       "      <td>421.316315</td>\n",
       "      <td>12.639489</td>\n",
       "    </tr>\n",
       "    <tr>\n",
       "      <th>9</th>\n",
       "      <td>15_208.png</td>\n",
       "      <td>72590.5</td>\n",
       "      <td>65.33145</td>\n",
       "      <td>420.645935</td>\n",
       "      <td>12.619378</td>\n",
       "    </tr>\n",
       "    <tr>\n",
       "      <th>10</th>\n",
       "      <td>15_291.png</td>\n",
       "      <td>40444.0</td>\n",
       "      <td>36.39960</td>\n",
       "      <td>424.417450</td>\n",
       "      <td>12.732523</td>\n",
       "    </tr>\n",
       "    <tr>\n",
       "      <th>11</th>\n",
       "      <td>15_309.png</td>\n",
       "      <td>41357.5</td>\n",
       "      <td>37.22175</td>\n",
       "      <td>481.328583</td>\n",
       "      <td>14.439857</td>\n",
       "    </tr>\n",
       "    <tr>\n",
       "      <th>12</th>\n",
       "      <td>16_162.png</td>\n",
       "      <td>44807.0</td>\n",
       "      <td>40.32630</td>\n",
       "      <td>426.684601</td>\n",
       "      <td>12.800538</td>\n",
       "    </tr>\n",
       "  </tbody>\n",
       "</table>\n",
       "</div>"
      ],
      "text/plain": [
       "    image name  contour area (px)  contour area (mm2)  diameter (px)  \\\n",
       "0   01_142.png            96149.0            86.53410     465.725861   \n",
       "1   01_154.png            51848.5            46.66365     408.925629   \n",
       "2   04_130.png            71676.0            64.50840     486.319031   \n",
       "3   05_107.png            69591.5            62.63235     439.369080   \n",
       "4   06_255.png            39649.5            35.68455     419.239990   \n",
       "5    08_63.png            43025.5            38.72295     453.538513   \n",
       "6   12_166.png            39241.0            35.31690     419.468933   \n",
       "7    14_74.png            42588.5            38.32965     451.107727   \n",
       "8   14_508.png            35420.0            31.87800     421.316315   \n",
       "9   15_208.png            72590.5            65.33145     420.645935   \n",
       "10  15_291.png            40444.0            36.39960     424.417450   \n",
       "11  15_309.png            41357.5            37.22175     481.328583   \n",
       "12  16_162.png            44807.0            40.32630     426.684601   \n",
       "\n",
       "    diameter (mm)  \n",
       "0       13.971776  \n",
       "1       12.267769  \n",
       "2       14.589571  \n",
       "3       13.181072  \n",
       "4       12.577200  \n",
       "5       13.606155  \n",
       "6       12.584068  \n",
       "7       13.533232  \n",
       "8       12.639489  \n",
       "9       12.619378  \n",
       "10      12.732523  \n",
       "11      14.439857  \n",
       "12      12.800538  "
      ]
     },
     "execution_count": 7,
     "metadata": {},
     "output_type": "execute_result"
    }
   ],
   "source": [
    "df = pd.read_csv('dataset/dataset_contours_aggregate_by_image_filtered.csv')\n",
    "df"
   ]
  },
  {
   "cell_type": "code",
   "execution_count": 8,
   "id": "b0738205",
   "metadata": {},
   "outputs": [
    {
     "data": {
      "text/html": [
       "<div>\n",
       "<style scoped>\n",
       "    .dataframe tbody tr th:only-of-type {\n",
       "        vertical-align: middle;\n",
       "    }\n",
       "\n",
       "    .dataframe tbody tr th {\n",
       "        vertical-align: top;\n",
       "    }\n",
       "\n",
       "    .dataframe thead th {\n",
       "        text-align: right;\n",
       "    }\n",
       "</style>\n",
       "<table border=\"1\" class=\"dataframe\">\n",
       "  <thead>\n",
       "    <tr style=\"text-align: right;\">\n",
       "      <th></th>\n",
       "      <th>contour area (px)</th>\n",
       "      <th>contour area (mm2)</th>\n",
       "      <th>diameter (px)</th>\n",
       "      <th>diameter (mm)</th>\n",
       "    </tr>\n",
       "  </thead>\n",
       "  <tbody>\n",
       "    <tr>\n",
       "      <th>count</th>\n",
       "      <td>13.000000</td>\n",
       "      <td>13.000000</td>\n",
       "      <td>13.000000</td>\n",
       "      <td>13.000000</td>\n",
       "    </tr>\n",
       "    <tr>\n",
       "      <th>mean</th>\n",
       "      <td>52952.961538</td>\n",
       "      <td>47.657665</td>\n",
       "      <td>439.852896</td>\n",
       "      <td>13.195587</td>\n",
       "    </tr>\n",
       "    <tr>\n",
       "      <th>std</th>\n",
       "      <td>18519.832686</td>\n",
       "      <td>16.667849</td>\n",
       "      <td>25.468950</td>\n",
       "      <td>0.764068</td>\n",
       "    </tr>\n",
       "    <tr>\n",
       "      <th>min</th>\n",
       "      <td>35420.000000</td>\n",
       "      <td>31.878000</td>\n",
       "      <td>408.925629</td>\n",
       "      <td>12.267769</td>\n",
       "    </tr>\n",
       "    <tr>\n",
       "      <th>25%</th>\n",
       "      <td>40444.000000</td>\n",
       "      <td>36.399600</td>\n",
       "      <td>420.645935</td>\n",
       "      <td>12.619378</td>\n",
       "    </tr>\n",
       "    <tr>\n",
       "      <th>50%</th>\n",
       "      <td>43025.500000</td>\n",
       "      <td>38.722950</td>\n",
       "      <td>426.684601</td>\n",
       "      <td>12.800538</td>\n",
       "    </tr>\n",
       "    <tr>\n",
       "      <th>75%</th>\n",
       "      <td>69591.500000</td>\n",
       "      <td>62.632350</td>\n",
       "      <td>453.538513</td>\n",
       "      <td>13.606155</td>\n",
       "    </tr>\n",
       "    <tr>\n",
       "      <th>max</th>\n",
       "      <td>96149.000000</td>\n",
       "      <td>86.534100</td>\n",
       "      <td>486.319031</td>\n",
       "      <td>14.589571</td>\n",
       "    </tr>\n",
       "  </tbody>\n",
       "</table>\n",
       "</div>"
      ],
      "text/plain": [
       "       contour area (px)  contour area (mm2)  diameter (px)  diameter (mm)\n",
       "count          13.000000           13.000000      13.000000      13.000000\n",
       "mean        52952.961538           47.657665     439.852896      13.195587\n",
       "std         18519.832686           16.667849      25.468950       0.764068\n",
       "min         35420.000000           31.878000     408.925629      12.267769\n",
       "25%         40444.000000           36.399600     420.645935      12.619378\n",
       "50%         43025.500000           38.722950     426.684601      12.800538\n",
       "75%         69591.500000           62.632350     453.538513      13.606155\n",
       "max         96149.000000           86.534100     486.319031      14.589571"
      ]
     },
     "execution_count": 8,
     "metadata": {},
     "output_type": "execute_result"
    }
   ],
   "source": [
    "df.describe()"
   ]
  },
  {
   "cell_type": "code",
   "execution_count": null,
   "id": "eee2bf7b",
   "metadata": {},
   "outputs": [],
   "source": [
    "df"
   ]
  },
  {
   "cell_type": "code",
   "execution_count": null,
   "id": "5aa67a90",
   "metadata": {},
   "outputs": [
    {
     "data": {
      "image/png": "[encoded data removed]",
      "text/plain": [
       "<Figure size 1400x500 with 2 Axes>"
      ]
     },
     "metadata": {},
     "output_type": "display_data"
    }
   ],
   "source": [
    "fig, axes = plt.subplots(1, 2, figsize=(14, 5))\n",
    "\n",
    "axes[0].hist(df['area (mm2)'], bins=30, color='gray', edgecolor='black')\n",
    "axes[0].set_xlabel(\"Area (mm²)\", fontsize=16)\n",
    "axes[0].set_ylabel(\"Frequency\", fontsize=16)\n",
    "axes[0].tick_params(axis='both', labelsize=14)\n",
    "\n",
    "axes[1].hist(df['diameter (mm)'], bins=30, color='gray', edgecolor='black')\n",
    "axes[1].set_xlabel(\"Diameter (mm)\", fontsize=16)\n",
    "axes[1].set_ylabel(\"Frequency\", fontsize=16)\n",
    "axes[1].tick_params(axis='both', labelsize=14)\n",
    "\n",
    "plt.tight_layout()\n",
    "plt.savefig('frequency_area.svg', format='svg', dpi=600, bbox_inches='tight')\n",
    "plt.show()"
   ]
  },
  {
   "cell_type": "code",
   "execution_count": null,
   "id": "8c24d4c5",
   "metadata": {},
   "outputs": [
    {
     "data": {
      "image/png": "[encoded data removed]",
      "text/plain": [
       "<Figure size 1400x500 with 2 Axes>"
      ]
     },
     "metadata": {},
     "output_type": "display_data"
    }
   ],
   "source": [
    "area_sorted, area_cdf = obtain_cdf(list(df['area (mm2)']))\n",
    "diameter_sorted, diameter_cdf = obtain_cdf(list(df['diameter (mm)']))\n",
    "\n",
    "fig, axes = plt.subplots(1, 2, figsize=(14, 5))\n",
    "\n",
    "axes[0].plot(area_sorted, area_cdf, color='blue')\n",
    "axes[0].set_xlabel(\"Area (mm²)\", fontsize=16)\n",
    "axes[0].set_ylabel(\"Probability\", fontsize=16)\n",
    "axes[0].tick_params(axis='both', labelsize=14)\n",
    "\n",
    "axes[1].plot(diameter_sorted, diameter_cdf, color='green')\n",
    "axes[1].set_xlabel(\"Diameter (mm)\", fontsize=16)\n",
    "axes[1].set_ylabel(\"Probability\", fontsize=16)\n",
    "axes[1].tick_params(axis='both', labelsize=14)\n",
    "\n",
    "plt.tight_layout()\n",
    "plt.savefig('Probability_area.svg', format='svg', dpi=600, bbox_inches='tight')\n",
    "plt.show()"
   ]
  },
  {
   "cell_type": "markdown",
   "id": "c5d60d1e",
   "metadata": {},
   "source": [
    "# **X. Plot contours in patch format**"
   ]
  },
  {
   "cell_type": "code",
   "execution_count": null,
   "id": "90671d71",
   "metadata": {},
   "outputs": [],
   "source": [
    "create_patches_image('dataset/dataset_contours_aggregate_by_image_filtered_augmented.json', \n",
    "                     'dataset/binary-patchs-1-15')"
   ]
  },
  {
   "cell_type": "code",
   "execution_count": null,
   "id": "bbe2cbc8",
   "metadata": {},
   "outputs": [],
   "source": [
    "def sort_contours_using_uniform_pdf_and_group(csv_path: str, json_path: str, n_objects: int, n_groups: int = 20):\n",
    "    \"\"\"\n",
    "    Sort contours using a uniform probability density function and group them. \n",
    "\n",
    "    :param csv_path: Path to the CSV file with contour data\n",
    "    :param json_path: Path to the JSON file with contour data\n",
    "    :param n_objects: Number of objects to sample\n",
    "    :param n_groups: Number of groups to create\n",
    "\n",
    "    :return: Sorted and grouped contours\n",
    "    \"\"\"\n",
    "\n",
    "    with open(json_path, 'r') as f:\n",
    "        contour_data = json.load(f)\n",
    "    df_json = pd.DataFrame.from_dict(contour_data, orient='index')\n",
    "    df_json['image_name'] = df_json.index\n",
    "    df_json = df_json.reset_index(drop=True)\n",
    "    df_csv = pd.read_csv(csv_path)\n",
    "    df_full = pd.merge(df_json, df_csv, on='image_name')\n",
    "    df_full = df_full[['image_name', 'x coordinate in 0,0', 'y coordinate in 0,0', 'diameter (px)', 'diameter (mm)', 'area (px)', 'area (mm2)']]\n",
    "\n",
    "    df_sorted = df_full.sort_values('diameter (px)', ascending=False).reset_index(drop=True)\n",
    "    group_dim = np.array_split(df_sorted.index, n_groups)\n",
    "    df_sorted['group by diameter (px)'] = -1\n",
    "    for i, group in enumerate(group_dim):\n",
    "        df_sorted.loc[group, 'group by diameter (px)'] = i + 1\n",
    "\n",
    "    return df_sorted"
   ]
  }
 ],
 "metadata": {
  "kernelspec": {
   "display_name": "env",
   "language": "python",
   "name": "python3"
  },
  "language_info": {
   "codemirror_mode": {
    "name": "ipython",
    "version": 3
   },
   "file_extension": ".py",
   "mimetype": "text/x-python",
   "name": "python",
   "nbconvert_exporter": "python",
   "pygments_lexer": "ipython3",
   "version": "3.13.0"
  }
 },
 "nbformat": 4,
 "nbformat_minor": 5
}
