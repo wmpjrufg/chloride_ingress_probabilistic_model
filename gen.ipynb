{
 "cells": [
  {
   "cell_type": "markdown",
   "id": "85d6b7b4",
   "metadata": {},
   "source": [
    "# Pacotes"
   ]
  },
  {
   "cell_type": "markdown",
   "id": "25f2e432",
   "metadata": {},
   "source": [
    "## Carregando o modelo"
   ]
  },
  {
   "cell_type": "code",
   "execution_count": null,
   "id": "f7d3eea9",
   "metadata": {},
   "outputs": [],
   "source": [
    "net = torch.load(\"diffusion_model.pt\", weights_only=False)"
   ]
  },
  {
   "cell_type": "markdown",
   "id": "31b303ea",
   "metadata": {},
   "source": [
    "## Geração aleatória e tratamento"
   ]
  },
  {
   "cell_type": "code",
   "execution_count": null,
   "id": "63414be6",
   "metadata": {},
   "outputs": [],
   "source": [
    "q_values = [0.0066, 0.0045, 0.0229, 0.2089, 0.0131, 0.1295, 0.0316, 0.0559]\n",
    "q_min = min(q_values)\n",
    "q_max = max(q_values)\n",
    "q_values = np.random.uniform(q_min, q_max, 1)\n",
    "\n",
    "for q in q_values:\n",
    "    x = torch.randn(1, 1, 64, 64).to(device)\n",
    "    y = torch.tensor([q], dtype=torch.float32).to(device)  # Example continuous polarizability value\n",
    "\n",
    "    for i, t in tqdm(enumerate(noise_scheduler.timesteps)):\n",
    "        with torch.no_grad():\n",
    "            residual = net(x, t, y)\n",
    "        x = noise_scheduler.step(residual, t, x).prev_sample\n",
    "\n",
    "    plt.figure(figsize=(2, 2))\n",
    "    plt.imshow(x.detach().cpu().clip(-1,1).squeeze(), cmap=\"Greys\")\n",
    "    plt.axis('off')\n",
    "    plt.show()\n",
    "    plt.figure(figsize=(2, 2))\n",
    "    plt.imshow((x.detach().cpu().clip(0,1).squeeze() > 0.9).int(), cmap=\"Greys\")\n",
    "    plt.axis('off')\n",
    "    plt.show()\n",
    "    # Grow up da imagem\n",
    "    # Fazer ela 512\n",
    "    # Save the image"
   ]
  }
 ],
 "metadata": {
  "language_info": {
   "name": "python"
  }
 },
 "nbformat": 4,
 "nbformat_minor": 5
}
