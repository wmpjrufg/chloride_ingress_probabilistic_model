{
 "cells": [
  {
   "cell_type": "markdown",
   "id": "671abeca",
   "metadata": {},
   "source": [
    "# Libraries"
   ]
  },
  {
   "cell_type": "code",
   "execution_count": null,
   "id": "0fb55a7b",
   "metadata": {},
   "outputs": [],
   "source": [
    "import cv2\n",
    "import numpy as np\n",
    "import json\n",
    "import os"
   ]
  },
  {
   "cell_type": "markdown",
   "id": "ad8c9b27",
   "metadata": {},
   "source": [
    "# Functions"
   ]
  },
  {
   "cell_type": "code",
   "execution_count": null,
   "id": "4e59e0f3",
   "metadata": {},
   "outputs": [],
   "source": [
    "def exclude_cont_bound(myconts: dict, n_x: float, n_y: float) -> dict:\n",
    "    \"\"\"\n",
    "    Exclude contours that touch the boundary of the image.\n",
    "    \n",
    "    :param myconts: Dictionary of contours\n",
    "    :param n_x: Width of the image or criterion for exclusion\n",
    "    :param n_y: Height of the image or criterion for exclusion\n",
    "\n",
    "    :return: Filtered dictionary of contours that do not touch the boundary\n",
    "    \"\"\"\n",
    "    \n",
    "    myconts_copy = myconts.copy()\n",
    "    for i in myconts:\n",
    "        i_contour = myconts[i]\n",
    "        for j in range(len(i_contour)):\n",
    "            x, y = i_contour[j][0]\n",
    "            if x == 0 or y == 0 or x >= n_x or y >= n_y:\n",
    "                save_or_not_save = False\n",
    "                break\n",
    "        else:\n",
    "            save_or_not_save = True\n",
    "        if save_or_not_save == False:\n",
    "          del myconts_copy[i]\n",
    "          \n",
    "    return myconts_copy\n",
    "\n",
    "\n",
    "def extract_contours(contours: list) -> dict: # Luiz check this type hint. I think it is correct but you should check it.\n",
    "    \"\"\"\n",
    "    Extract contours from a list of contours and return them as a dictionary.\n",
    "    \n",
    "    :param contours: Contours to be processed\n",
    "    \n",
    "    :return: Contour points. Each index of the dictionary corresponds to a contour.\n",
    "    \"\"\"\n",
    "\n",
    "    myconts = {}\n",
    "    for i, contour in enumerate(contours):\n",
    "        myconts[str(i)] = np.array(contour)\n",
    "        \n",
    "    return myconts"
   ]
  },
  {
   "cell_type": "markdown",
   "id": "02ce4332",
   "metadata": {},
   "source": [
    "# Image or images"
   ]
  },
  {
   "cell_type": "code",
   "execution_count": null,
   "id": "9d2887a6",
   "metadata": {},
   "outputs": [],
   "source": [
    "filename = 'dataset/binary-masks/01.png' # Commen if you want to use a set of images\n",
    "filepath = [filename] # Luiz build a loop to read all images in a folder"
   ]
  },
  {
   "cell_type": "markdown",
   "id": "29cceff1",
   "metadata": {},
   "source": [
    "# Get contour"
   ]
  },
  {
   "cell_type": "code",
   "execution_count": null,
   "id": "7407a1a2",
   "metadata": {},
   "outputs": [],
   "source": [
    "for filename in filepath:\n",
    "    # Read image\n",
    "    img = cv2.imread(filename)\n",
    "    gray = cv2.cvtColor(img, cv2.COLOR_BGR2GRAY)\n",
    "    _, threshold = cv2.threshold(gray, 127, 255, cv2.THRESH_BINARY)\n",
    "    contours, hierarchy = cv2.findContours(threshold, cv2.RETR_EXTERNAL, cv2.CHAIN_APPROX_NONE)\n",
    "    \n",
    "    # Get contour\n",
    "    myconts = extract_contours(contours)\n",
    "\n",
    "    # Exclude contours that touch the boundary\n",
    "    myc = exclude_cont_bound(myconts, 2499, 2499)\n",
    "\n",
    "    # Create a dictionary to save contours in JSON format\n",
    "    contours_json = {}\n",
    "    for idx, contour in myc.items():\n",
    "        coords = contour[:, 0, :]\n",
    "        contours_json[f\"{idx}\"] = {\n",
    "            'x': coords[:, 0].tolist(),\n",
    "            'y': coords[:, 1].tolist(),\n",
    "            'q': \"plot here a pixel_aggregate/pixel_full_image rate\"\n",
    "        }\n",
    "\n",
    "# Save contours into a JSON file\n",
    "with open('dataset_contours_aggregate.json', 'w') as f:\n",
    "    json.dump(contours_json, f, indent=4)"
   ]
  },
  {
   "cell_type": "markdown",
   "id": "df33bce5",
   "metadata": {},
   "source": [
    "# Plot the dataset"
   ]
  },
  {
   "cell_type": "code",
   "execution_count": null,
   "id": "849d95dd",
   "metadata": {},
   "outputs": [],
   "source": [
    "# Create a function to select one contour in dataset and plot it\n",
    "# Put this function on the cell \"# Functions\" (see above)"
   ]
  }
 ],
 "metadata": {
  "language_info": {
   "name": "python"
  }
 },
 "nbformat": 4,
 "nbformat_minor": 5
}
