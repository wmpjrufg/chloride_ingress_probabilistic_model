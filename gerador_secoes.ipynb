{
 "cells": [
  {
   "cell_type": "code",
   "execution_count": null,
   "id": "7bfecb70",
   "metadata": {},
   "outputs": [],
   "source": [
    "import matplotlib.pyplot as plt\n",
    "from scipy.stats import qmc\n",
    "\n",
    "# === Parâmetros de entrada ===\n",
    "q_n = 390            # Quantidade de pontos (centroides)\n",
    "b_w_max = 2500       # Largura máxima da seção em cm (eixo x)\n",
    "h_max = 2500         # Altura máxima da seção em cm (eixo y)\n",
    "\n",
    "# === Geração dos pontos via Amostragem por Hipercubo Latino ===\n",
    "sampler = qmc.LatinHypercube(d=2)\n",
    "sample = sampler.random(n=q_n)\n",
    "\n",
    "# Escalando os pontos para o domínio da seção de concreto\n",
    "scaled_sample = qmc.scale(sample, l_bounds=[0, 0], u_bounds=[b_w_max, h_max])\n",
    "\n",
    "# Separando coordenadas x (largura) e y (altura)\n",
    "x_centroids = scaled_sample[:, 0]\n",
    "y_centroids = scaled_sample[:, 1]\n",
    "\n",
    "# === Plotagem ===\n",
    "fig, ax = plt.subplots(figsize=(8, 6))\n",
    "ax.set_title('Amostragem de Centroides em Seção Transversal de Concreto')\n",
    "ax.set_xlabel('b_w [cm] (largura)')\n",
    "ax.set_ylabel('h [cm] (altura)')\n",
    "ax.set_xlim(0, b_w_max)\n",
    "ax.set_ylim(0, h_max)\n",
    "\n",
    "# Retângulo da seção\n",
    "ax.add_patch(plt.Rectangle((0, 0), b_w_max, h_max, fill=False, edgecolor='black', linestyle='--'))\n",
    "\n",
    "# Plotando os pontos em vermelho\n",
    "ax.scatter(x_centroids, y_centroids, color='red', s=5, label=f'Centroides (q_n={q_n})')\n",
    "ax.legend(loc=\"upper right\")\n",
    "\n",
    "plt.grid(True)\n",
    "plt.show()"
   ]
  }
 ],
 "metadata": {
  "language_info": {
   "name": "python"
  }
 },
 "nbformat": 4,
 "nbformat_minor": 5
}
