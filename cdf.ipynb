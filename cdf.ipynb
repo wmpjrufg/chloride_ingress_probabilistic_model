{
 "cells": [
  {
   "cell_type": "code",
   "execution_count": null,
   "id": "22f717e0",
   "metadata": {},
   "outputs": [],
   "source": [
    "import numpy as np\n",
    "import matplotlib.pyplot as plt\n",
    "from scipy.stats import lognorm\n",
    "\n",
    "# Parâmetros da log-normal (exemplo: mu=0, sigma=1 para a normal subjacente)\n",
    "mu, sigma, n_s = 0, 1, 5000\n",
    "dados = lognorm.rvs(s=sigma, scale=np.exp(mu), size=n_s)\n",
    "dados"
   ]
  },
  {
   "cell_type": "code",
   "execution_count": null,
   "id": "431b2118",
   "metadata": {},
   "outputs": [],
   "source": [
    "def sampling_using_cdf(dataset):\n",
    "    \"\"\"\n",
    "    \"\"\"\n",
    "\n",
    "    if dataset is list:\n",
    "        dataset = np.array(dataset)\n",
    "    else:\n",
    "        dataset = dataset\n",
    "    x_array = np.array(dataset)\n",
    "    x_sort = np.sort(x_array)\n",
    "    y_cdf = np.arange(1, len(x_sort) + 1) / len(x_sort)\n",
    "    \n",
    "    # Create figure with subplots\n",
    "    figsize = (6, 3)\n",
    "    fontsize = 12\n",
    "    hist_color = 'blue'\n",
    "    line_color = 'red'\n",
    "    bins = 30\n",
    "    fig, (ax1, ax2) = plt.subplots(1, 2, figsize=figsize)\n",
    "    # Plot histogram (left subplot)\n",
    "    ax1.hist(dataset, bins=bins, density=True, color=hist_color, alpha=0.7, edgecolor='black')\n",
    "    ax1.set_xlabel('Values', fontsize=fontsize)\n",
    "    ax1.set_ylabel('Density', fontsize=fontsize)\n",
    "    ax1.grid(True, linestyle='--', alpha=0.5)\n",
    "    # Plot CDF (right subplot)\n",
    "    ax2.plot(x_sort, y_cdf, color=line_color, label='Empirical CDF')\n",
    "    ax2.set_xlabel('Values', fontsize=fontsize)\n",
    "    ax2.set_ylabel('CDF', fontsize=fontsize)\n",
    "    ax2.grid(True, linestyle='--', alpha=0.5)\n",
    "    ax2.legend(fontsize=fontsize)\n",
    "    plt.tight_layout()\n",
    "    plt.show()\n",
    "\n",
    "\n",
    "    return None\n",
    "\n",
    "sampling_using_cdf(dados)"
   ]
  }
 ],
 "metadata": {
  "language_info": {
   "name": "python"
  }
 },
 "nbformat": 4,
 "nbformat_minor": 5
}
