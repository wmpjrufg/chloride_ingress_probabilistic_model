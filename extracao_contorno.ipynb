{
 "cells": [
  {
   "cell_type": "code",
   "execution_count": 1,
   "id": "ecf53ddd",
   "metadata": {},
   "outputs": [
    {
     "name": "stdout",
     "output_type": "stream",
     "text": [
      "✅ Todas as imagens válidas foram processadas e salvas em: imgs_patchs_improved\n"
     ]
    }
   ],
   "source": [
    "import cv2\n",
    "import numpy as np\n",
    "import os\n",
    "import matplotlib.pyplot as plt\n",
    "from glob import glob\n",
    "\n",
    "\n",
    "img_dir = 'patches'\n",
    "output_dir = 'imgs_patchs_improved'\n",
    "os.makedirs(output_dir, exist_ok=True)\n",
    "\n",
    "\n",
    "image_paths = sorted(glob(os.path.join(img_dir, '*.png')))\n",
    "def process_image(image_path):\n",
    "    img = cv2.imread(image_path, cv2.IMREAD_GRAYSCALE)\n",
    "    if img is None:\n",
    "        print(f\"Erro ao ler a imagem: {image_path}\")\n",
    "        return None\n",
    "\n",
    "    # Binarizar (limiar simples)\n",
    "    _, thresh = cv2.threshold(img, 80, 255, cv2.THRESH_BINARY)\n",
    "\n",
    "    # Encontrar contornos\n",
    "    contours, _ = cv2.findContours(thresh, cv2.RETR_EXTERNAL, cv2.CHAIN_APPROX_SIMPLE)\n",
    "\n",
    "    # Criar imagem preta com o mesmo tamanho da original (esperado: 512x512)\n",
    "    canvas = np.zeros_like(img)\n",
    "\n",
    "    # Desenhar os contornos em branco\n",
    "    cv2.drawContours(canvas, contours, -1, (255), thickness=cv2.FILLED)\n",
    "\n",
    "    # import matplotlib.pyplot as plt\n",
    "    # plt.figure(figsize=(12,4))\n",
    "    # plt.subplot(1,3,1)\n",
    "    # plt.title(\"Original\")\n",
    "    # plt.imshow(img, cmap='gray')\n",
    "    # plt.subplot(1,3,2)\n",
    "    # plt.title(\"Binarizado\")\n",
    "    # plt.imshow(thresh, cmap='gray')\n",
    "    # plt.subplot(1,3,3)\n",
    "    # plt.title(\"Contornos preenchidos\")\n",
    "    # plt.imshow(canvas, cmap='gray')\n",
    "    # plt.show()\n",
    "\n",
    "    return canvas\n",
    "\n",
    "# Processar e salvar todas as imagens\n",
    "for path in image_paths:\n",
    "    output_image = process_image(path)\n",
    "    \n",
    "    if output_image is not None:\n",
    "        filename = os.path.basename(path)\n",
    "        cv2.imwrite(os.path.join(output_dir, filename), output_image)\n",
    "    else:\n",
    "        print(f\"Imagem ignorada: {path}\")\n",
    "\n",
    "print(f\"✅ Todas as imagens válidas foram processadas e salvas em: {output_dir}\")"
   ]
  }
 ],
 "metadata": {
  "kernelspec": {
   "display_name": "Python 3",
   "language": "python",
   "name": "python3"
  },
  "language_info": {
   "codemirror_mode": {
    "name": "ipython",
    "version": 3
   },
   "file_extension": ".py",
   "mimetype": "text/x-python",
   "name": "python",
   "nbconvert_exporter": "python",
   "pygments_lexer": "ipython3",
   "version": "3.12.10"
  }
 },
 "nbformat": 4,
 "nbformat_minor": 5
}
