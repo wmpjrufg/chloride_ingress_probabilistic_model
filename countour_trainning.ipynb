{
 "cells": [
  {
   "cell_type": "markdown",
   "id": "9e7bc164",
   "metadata": {},
   "source": [
    "# Libraries"
   ]
  },
  {
   "cell_type": "code",
   "execution_count": null,
   "id": "828ffb5d",
   "metadata": {},
   "outputs": [],
   "source": [
    "import torch\n",
    "import torchvision\n",
    "from torch import nn\n",
    "from torch.nn import functional as F\n",
    "from torch.utils.data import DataLoader\n",
    "from diffusers import DDPMScheduler, UNet2DModel\n",
    "from matplotlib import pyplot as plt\n",
    "from tqdm.auto import tqdm\n",
    "\n",
    "import torchvision.transforms as transforms\n",
    "from torch.utils.data import Dataset\n",
    "import pandas as pd\n",
    "from PIL import Image\n",
    "import os\n",
    "from sklearn.preprocessing import MinMaxScaler"
   ]
  },
  {
   "cell_type": "markdown",
   "id": "4dad8ea0",
   "metadata": {},
   "source": [
    "# Diffusion model"
   ]
  },
  {
   "cell_type": "code",
   "execution_count": null,
   "id": "ac7e5ce0",
   "metadata": {},
   "outputs": [],
   "source": [
    "diffusion_times = 2000\n",
    "n_epochs = 15\n",
    "n_batch = 64"
   ]
  },
  {
   "cell_type": "markdown",
   "id": "28686ebc",
   "metadata": {},
   "source": [
    "## Load dataset"
   ]
  },
  {
   "cell_type": "code",
   "execution_count": null,
   "id": "7c76eb3f",
   "metadata": {},
   "outputs": [
    {
     "name": "stderr",
     "output_type": "stream",
     "text": [
      "/home/jgduarte/Documents/RA/chloride_ingress_probabilistic_model/.venv/lib/python3.10/site-packages/tqdm/auto.py:21: TqdmWarning: IProgress not found. Please update jupyter and ipywidgets. See https://ipywidgets.readthedocs.io/en/stable/user_install.html\n",
      "  from .autonotebook import tqdm as notebook_tqdm\n"
     ]
    },
    {
     "name": "stdout",
     "output_type": "stream",
     "text": [
      "Input shape: torch.Size([8, 1, 64, 64])\n",
      "Labels: tensor([0.0238, 0.0288, 0.0458, 0.0851, 0.0547, 0.1927, 0.0414, 0.0263])\n"
     ]
    },
    {
     "data": {
      "image/png": "[encoded data removed]",
      "text/plain": [
       "<Figure size 640x480 with 1 Axes>"
      ]
     },
     "metadata": {},
     "output_type": "display_data"
    }
   ],
   "source": [
    "class CustomDataset(Dataset):\n",
    "    def __init__(self, image_dir, csv_file):\n",
    "        self.image_dir = image_dir\n",
    "        self.df = pd.read_csv(csv_file)\n",
    "\n",
    "        q_value = self.df['diameter (mm)'].values.reshape(-1,1)\n",
    "        scaler = MinMaxScaler()\n",
    "        self.df['q_value_scaled'] = scaler.fit_transform(q_value).flatten()\n",
    "\n",
    "        self.transform = transforms.Compose([\n",
    "            transforms.ToTensor(),\n",
    "            transforms.Resize((64, 64))\n",
    "        ])\n",
    "\n",
    "    def __len__(self):\n",
    "        return len(self.df)\n",
    "\n",
    "    def __getitem__(self, idx):\n",
    "        row = self.df.iloc[idx]\n",
    "        img_name = row['image_name']\n",
    "        img_path = os.path.join(self.image_dir, img_name)\n",
    "        image = Image.open(img_path).convert('L')\n",
    "        image = self.transform(image)\n",
    "        label = row['q_value_scaled']\n",
    "        return image, torch.tensor(label, dtype=torch.float32)\n",
    "    \n",
    "dataset = CustomDataset('image_patchs', 'output.csv')\n",
    "train_dataloader = DataLoader(dataset, batch_size=8, shuffle=True)\n",
    "x, y = next(iter(train_dataloader))\n",
    "print(\"Input shape:\", x.shape)\n",
    "print(\"Labels:\", y)\n",
    "plt.imshow(torchvision.utils.make_grid(x)[0], cmap=\"Greys\")\n",
    "plt.show()"
   ]
  },
  {
   "cell_type": "code",
   "execution_count": null,
   "id": "5514435e",
   "metadata": {},
   "outputs": [],
   "source": [
    "dataset"
   ]
  },
  {
   "cell_type": "markdown",
   "id": "88eaf614",
   "metadata": {},
   "source": [
    "## Trainning"
   ]
  },
  {
   "cell_type": "code",
   "execution_count": 2,
   "id": "1921f992",
   "metadata": {},
   "outputs": [],
   "source": [
    "class ClassConditionedUnet(nn.Module):\n",
    "    def __init__(self, class_emb_size=75):\n",
    "        super().__init__()\n",
    "        self.class_emb = nn.Linear(1, class_emb_size)  # Project scalar to embedding\n",
    "        self.model = UNet2DModel(\n",
    "            sample_size=64,\n",
    "            in_channels=1 + class_emb_size,\n",
    "            out_channels=1,\n",
    "            layers_per_block=2,\n",
    "            block_out_channels=(64, 128, 256, 256, 256),\n",
    "            down_block_types=(\"DownBlock2D\", \"AttnDownBlock2D\", \"AttnDownBlock2D\", \"AttnDownBlock2D\", \"AttnDownBlock2D\"),\n",
    "            up_block_types=(\"AttnUpBlock2D\", \"AttnUpBlock2D\", \"AttnUpBlock2D\", \"AttnUpBlock2D\", \"UpBlock2D\"),\n",
    "        )\n",
    "\n",
    "    def forward(self, x, t, class_labels):\n",
    "        bs, ch, w, h = x.shape\n",
    "        embed = self.class_emb(class_labels.unsqueeze(-1))  # Add dimension for linear layer\n",
    "        class_cond = embed.view(bs, embed.shape[1], 1, 1).expand(bs, embed.shape[1], w, h)\n",
    "        net_input = torch.cat((x, class_cond), 1)\n",
    "        return self.model(net_input, t).sample"
   ]
  },
  {
   "cell_type": "code",
   "execution_count": null,
   "id": "743acc3b",
   "metadata": {},
   "outputs": [],
   "source": [
    "noise_scheduler = DDPMScheduler(num_train_timesteps=diffusion_times, beta_schedule=\"squaredcos_cap_v2\")"
   ]
  },
  {
   "cell_type": "code",
   "execution_count": null,
   "id": "5b885ca3",
   "metadata": {},
   "outputs": [
    {
     "name": "stdout",
     "output_type": "stream",
     "text": [
      "Using device: cuda\n"
     ]
    },
    {
     "name": "stderr",
     "output_type": "stream",
     "text": [
      "100%|██████████| 220/220 [04:15<00:00,  1.16s/it]\n"
     ]
    },
    {
     "name": "stdout",
     "output_type": "stream",
     "text": [
      "Finished epoch 0. Average of the last 100 loss values: 0.019649\n"
     ]
    },
    {
     "name": "stderr",
     "output_type": "stream",
     "text": [
      "100%|██████████| 220/220 [04:20<00:00,  1.18s/it]\n"
     ]
    },
    {
     "name": "stdout",
     "output_type": "stream",
     "text": [
      "Finished epoch 1. Average of the last 100 loss values: 0.008892\n"
     ]
    },
    {
     "name": "stderr",
     "output_type": "stream",
     "text": [
      "100%|██████████| 220/220 [04:20<00:00,  1.18s/it]\n"
     ]
    },
    {
     "name": "stdout",
     "output_type": "stream",
     "text": [
      "Finished epoch 2. Average of the last 100 loss values: 0.006385\n"
     ]
    },
    {
     "name": "stderr",
     "output_type": "stream",
     "text": [
      " 38%|███▊      | 84/220 [01:36<02:37,  1.15s/it]"
     ]
    }
   ],
   "source": [
    "device = \"cuda\" if torch.cuda.is_available() else \"cpu\"\n",
    "print(f\"Using device: {device}\")\n",
    "\n",
    "train_dataloader = DataLoader(dataset, batch_size=n_batch, shuffle=True)\n",
    "\n",
    "net = ClassConditionedUnet().to(device)\n",
    "loss_fn = nn.MSELoss()\n",
    "opt = torch.optim.Adam(net.parameters(), lr=1e-4)\n",
    "\n",
    "losses = []\n",
    "aux = 1e9\n",
    "\n",
    "# The training loop\n",
    "for epoch in range(n_epochs):\n",
    "    for x, y in tqdm(train_dataloader):\n",
    "\n",
    "        # Get some data and prepare the corrupted version\n",
    "        x = x.to(device) # Data on the GPU (mapped to (0, 1))\n",
    "        y = y.to(device)\n",
    "        noise = torch.randn_like(x)\n",
    "        timesteps = torch.randint(0, 999, (x.shape[0],)).long().to(device)\n",
    "        noisy_x = noise_scheduler.add_noise(x, noise, timesteps)\n",
    "\n",
    "        # Get the model prediction\n",
    "        pred = net(noisy_x, timesteps, y)  # Note that we pass in the labels y\n",
    "\n",
    "        # Calculate the loss\n",
    "        loss = loss_fn(pred, noise)  # How close is the output to the noise\n",
    "\n",
    "        # Backprop and update the params:\n",
    "        opt.zero_grad()\n",
    "        loss.backward()\n",
    "        opt.step()\n",
    "\n",
    "        # Store the loss for later\n",
    "        losses.append(loss.item())\n",
    "\n",
    "    # Print out the average of the last 100 loss values to get an idea of progress:\n",
    "    avg_loss = sum(losses[-100:]) / 100\n",
    "    print(f\"Finished epoch {epoch}. Average of the last 100 loss values: {avg_loss:05f}\")\n",
    "\n",
    "    if avg_loss < aux:\n",
    "        torch.save(net, 'diffusion_model.pt')\n",
    "        aux = avg_loss\n",
    "\n",
    "# View the loss curve\n",
    "plt.plot(losses)"
   ]
  },
  {
   "cell_type": "markdown",
   "id": "4e32676d",
   "metadata": {},
   "source": [
    "## Save model"
   ]
  },
  {
   "cell_type": "code",
   "execution_count": null,
   "id": "a265feff",
   "metadata": {},
   "outputs": [],
   "source": [
    "net = torch.load(f'diffusion_model_epochs_{n_epochs}_batch_{n_batch}_diffusionTimes_{diffusion_times}.pt', weights_only=False)"
   ]
  },
  {
   "cell_type": "markdown",
   "id": "76232991",
   "metadata": {},
   "source": [
    "## Test"
   ]
  },
  {
   "cell_type": "code",
   "execution_count": null,
   "id": "5e862ce2",
   "metadata": {},
   "outputs": [
    {
     "name": "stderr",
     "output_type": "stream",
     "text": [
      "1000it [00:15, 63.84it/s]\n"
     ]
    },
    {
     "data": {
      "image/png": "[encoded data removed]",
      "text/plain": [
       "<Figure size 200x200 with 1 Axes>"
      ]
     },
     "metadata": {},
     "output_type": "display_data"
    }
   ],
   "source": [
    "# Sampling one sample:\n",
    "x = torch.randn(1, 1, 64, 64).to(device)\n",
    "y = torch.tensor([0.0997], dtype=torch.float32).to(device)  # Example continuous polarizability value\n",
    "\n",
    "for i, t in tqdm(enumerate(noise_scheduler.timesteps)):\n",
    "    with torch.no_grad():\n",
    "        residual = net(x, t, y)\n",
    "    x = noise_scheduler.step(residual, t, x).prev_sample\n",
    "\n",
    "plt.figure(figsize=(2, 2))\n",
    "plt.imshow(x.detach().cpu().clip(-1,1).squeeze(), cmap=\"Greys\")\n",
    "plt.axis('off')\n",
    "plt.show()"
   ]
  },
  {
   "cell_type": "code",
   "execution_count": null,
   "id": "6ce11305",
   "metadata": {},
   "outputs": [
    {
     "data": {
      "text/plain": [
       "tensor([[0, 0, 0,  ..., 0, 0, 0],\n",
       "        [0, 0, 0,  ..., 0, 0, 0],\n",
       "        [0, 0, 0,  ..., 0, 0, 0],\n",
       "        ...,\n",
       "        [0, 0, 0,  ..., 0, 0, 0],\n",
       "        [0, 0, 0,  ..., 0, 0, 0],\n",
       "        [0, 0, 0,  ..., 0, 0, 0]], dtype=torch.int32)"
      ]
     },
     "execution_count": 19,
     "metadata": {},
     "output_type": "execute_result"
    }
   ],
   "source": [
    "(x.detach().cpu().clip(0,1).squeeze() > 0.9).int()"
   ]
  },
  {
   "cell_type": "code",
   "execution_count": null,
   "id": "36a4376a",
   "metadata": {},
   "outputs": [
    {
     "data": {
      "image/png": "[encoded data removed]",
      "text/plain": [
       "<Figure size 200x200 with 1 Axes>"
      ]
     },
     "metadata": {},
     "output_type": "display_data"
    }
   ],
   "source": [
    "plt.figure(figsize=(2, 2))\n",
    "plt.imshow((x.detach().cpu().clip(0,1).squeeze() > 0.9).int(), cmap=\"Greys\")\n",
    "plt.axis('off')\n",
    "plt.show()"
   ]
  },
  {
   "cell_type": "code",
   "execution_count": null,
   "id": "c796e0ee",
   "metadata": {},
   "outputs": [],
   "source": [
    "import matplotlib.pyplot as plt\n",
    "\n",
    "for idx in range(len(dataset)):\n",
    "    image, label = dataset[idx]\n",
    "    if label == 0.3951528:\n",
    "        plt.figure(figsize=(2,2))\n",
    "        plt.imshow(image.clip(-1, 1).squeeze(), cmap='Greys')\n",
    "        plt.axis('off')\n",
    "        plt.show()\n",
    "        plt.close()\n",
    "        break"
   ]
  }
 ],
 "metadata": {
  "kernelspec": {
   "display_name": ".venv",
   "language": "python",
   "name": "python3"
  },
  "language_info": {
   "codemirror_mode": {
    "name": "ipython",
    "version": 3
   },
   "file_extension": ".py",
   "mimetype": "text/x-python",
   "name": "python",
   "nbconvert_exporter": "python",
   "pygments_lexer": "ipython3",
   "version": "3.10.12"
  }
 },
 "nbformat": 4,
 "nbformat_minor": 5
}
