{
 "cells": [
  {
   "cell_type": "code",
   "execution_count": 8,
   "id": "5c35de94",
   "metadata": {},
   "outputs": [],
   "source": [
    "import json\n",
    "import csv\n",
    "\n",
    "with open('dataset_contours_aggregate.json', 'r') as file:\n",
    "    data = json.load(file)\n",
    "\n",
    "with open('output.csv', 'w', newline='') as csvfile:\n",
    "    writer = csv.writer(csvfile)\n",
    "    writer.writerow(['image_name', 'q_value'])\n",
    "    for image_name, subdata in data.items():\n",
    "        for key, item in subdata.items():\n",
    "            if 'q' in item:\n",
    "                writer.writerow([image_name.split('.')[0]+'_'+key+'.png', item['q']])"
   ]
  }
 ],
 "metadata": {
  "kernelspec": {
   "display_name": "base",
   "language": "python",
   "name": "python3"
  },
  "language_info": {
   "codemirror_mode": {
    "name": "ipython",
    "version": 3
   },
   "file_extension": ".py",
   "mimetype": "text/x-python",
   "name": "python",
   "nbconvert_exporter": "python",
   "pygments_lexer": "ipython3",
   "version": "3.10.13"
  }
 },
 "nbformat": 4,
 "nbformat_minor": 5
}
